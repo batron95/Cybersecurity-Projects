{
 "cells": [
  {
   "cell_type": "markdown",
   "id": "33723728-06a9-462f-987d-51172d0b051a",
   "metadata": {},
   "source": [
    "# SQL Injection Attack Simulation\n",
    "\n",
    "SQL injection is a common attack vector where malicious SQL statements are inserted into an input field to manipulate a database. In this notebook, we'll simulate a basic SQL injection attack and then show how to prevent it.\n",
    "\n",
    "**Objectives:**\n",
    "- Understand how SQL injection works.\n",
    "- Simulate an SQL injection attack.\n",
    "- Learn how to defend against SQL injection.\n"
   ]
  },
  {
   "cell_type": "code",
   "execution_count": null,
   "id": "72f56ebb-2ffe-4218-83bf-af75a67e7516",
   "metadata": {},
   "outputs": [],
   "source": [
    "Below is an example of simulating SQL Injection"
   ]
  },
  {
   "cell_type": "code",
   "execution_count": 2,
   "id": "7e4f9c21-4fa6-42a4-af98-80e72171a8f4",
   "metadata": {},
   "outputs": [
    {
     "name": "stdout",
     "output_type": "stream",
     "text": [
      "SQL Query: SELECT * FROM users WHERE username = 'admin' AND password = '' OR '1'='1'\n",
      "Login failed.\n"
     ]
    }
   ],
   "source": [
    "# Simulating a basic SQL query without protection against SQL injection\n",
    "def authenticate_user(username, password):\n",
    "    query = f\"SELECT * FROM users WHERE username = '{username}' AND password = '{password}'\"\n",
    "    print(f\"SQL Query: {query}\")\n",
    "    # Simulating database return value\n",
    "    if username == 'admin' and password == 'admin':\n",
    "        return \"Login successful!\"\n",
    "    return \"Login failed.\"\n",
    "\n",
    "# Simulate an attack\n",
    "result = authenticate_user(\"admin\", \"' OR '1'='1\")\n",
    "print(result)\n"
   ]
  },
  {
   "cell_type": "markdown",
   "id": "eed6bff1-086f-4f53-95b3-613cc4414576",
   "metadata": {},
   "source": [
    "In the example above, the attacker enters a crafted password that manipulates the SQL query, effectively bypassing authentication. The query becomes:\n",
    "\n",
    "```sql\n",
    "SELECT * FROM users WHERE username = 'admin' AND password = '' OR '1'='1'\n"
   ]
  },
  {
   "cell_type": "markdown",
   "id": "3d710398-8524-4028-b1fb-ef7beaab926a",
   "metadata": {},
   "source": [
    "Preventing SQL injections - written in python"
   ]
  },
  {
   "cell_type": "code",
   "execution_count": 5,
   "id": "058e211b-1b05-4d95-890f-20a644779c58",
   "metadata": {},
   "outputs": [
    {
     "name": "stdout",
     "output_type": "stream",
     "text": [
      "Login failed.\n"
     ]
    }
   ],
   "source": [
    "\n",
    "# Defending against SQL injection using parameterized queries\n",
    "import sqlite3\n",
    "\n",
    "def safe_authenticate_user(username, password):\n",
    "    connection = sqlite3.connect(':memory:')\n",
    "    cursor = connection.cursor()\n",
    "    \n",
    "    # Create a users table for demonstration\n",
    "    cursor.execute(\"CREATE TABLE users (username TEXT, password TEXT)\")\n",
    "    cursor.execute(\"INSERT INTO users (username, password) VALUES ('admin', 'admin')\")\n",
    "    \n",
    "    # Use a parameterized query\n",
    "    cursor.execute(\"SELECT * FROM users WHERE username = ? AND password = ?\", (username, password))\n",
    "    \n",
    "    user = cursor.fetchone()\n",
    "    if user:\n",
    "        return \"Login successful!\"\n",
    "    return \"Login failed.\"\n",
    "\n",
    "# Simulate the attack again\n",
    "result = safe_authenticate_user(\"admin\", \"' OR '1'='1\")\n",
    "print(result)\n"
   ]
  },
  {
   "cell_type": "markdown",
   "id": "91102aa1-d520-4139-98a2-f6d3effb6452",
   "metadata": {},
   "source": [
    "### Exercise: Test SQL Injection Defenses\n",
    "\n",
    "- Try modifying the attack input to see if you can bypass the authentication with the safe function.\n",
    "- Experiment with different types of SQL injections. Can you find other potential vulnerabilities in a non-secured query?\n"
   ]
  },
  {
   "cell_type": "markdown",
   "id": "6d6a275e-036f-47f3-93b3-e8553e07a98f",
   "metadata": {},
   "source": []
  },
  {
   "cell_type": "raw",
   "id": "35326832-4682-4e0e-a7a5-33cfe7c6af65",
   "metadata": {},
   "source": [
    "# Exploring Malware Signatures\n",
    "\n",
    "Malware often leaves behind specific signatures or patterns in files or network traffic that can be used for detection. In this notebook, we'll explore how to identify simple malware signatures using Python.\n",
    "\n",
    "**Objectives:**\n",
    "- Understand what a malware signature is.\n",
    "- Write a Python script to detect malware signatures in files.\n",
    "- Analyze example files for malware signatures.\n"
   ]
  },
  {
   "cell_type": "code",
   "execution_count": 6,
   "id": "b023265b-3738-450e-81e1-4f8f64d26286",
   "metadata": {},
   "outputs": [
    {
     "name": "stdout",
     "output_type": "stream",
     "text": [
      "Is the file malicious? True\n"
     ]
    }
   ],
   "source": [
    "# Example of simple malware signatures (hexadecimal patterns)\n",
    "malware_signatures = [\n",
    "    \"4D5A\",  # Common signature for PE (Portable Executable) files\n",
    "    \"89504E47\",  # PNG file signature\n",
    "    \"25504446\",  # PDF file signature\n",
    "]\n",
    "\n",
    "# Function to check for malware signatures in a file\n",
    "def check_for_malware(file_content):\n",
    "    for signature in malware_signatures:\n",
    "        if signature in file_content:\n",
    "            return True\n",
    "    return False\n",
    "\n",
    "# Example file content (simulated as hexadecimal strings)\n",
    "file_content = \"4D5A90000300000004000F00FFFF0000B80000000000000040000000000000000000000000000000000000000000000000000000000000000\"\n",
    "\n",
    "# Check if the file contains malware signatures\n",
    "is_malicious = check_for_malware(file_content)\n",
    "print(f\"Is the file malicious? {is_malicious}\")\n"
   ]
  },
  {
   "cell_type": "markdown",
   "id": "d4b2bf40-d0f9-49a1-9331-400f623bc68c",
   "metadata": {},
   "source": [
    "The example above is for detecting Malware Signatures. The function above checks for the presence of known malware signatures in a file. These signatures are typically hexadecimal patterns that indicate the presence of specific types of files, such as executables or images, which could be malware.\n"
   ]
  },
  {
   "cell_type": "markdown",
   "id": "b6eeb196-127d-4635-a6ba-d6f0b4f99152",
   "metadata": {},
   "source": [
    "### Exercise: Identify Malware in Files\n",
    "\n",
    "- Create your own list of malware signatures based on known file types.\n",
    "- Write a function to scan a directory of files and identify any that contain these signatures.\n",
    "- How might you improve this method to avoid false positives?\n"
   ]
  },
  {
   "cell_type": "code",
   "execution_count": null,
   "id": "dca9fb9d-299f-4dd5-9219-384e30f51875",
   "metadata": {},
   "outputs": [],
   "source": []
  },
  {
   "cell_type": "code",
   "execution_count": null,
   "id": "3d858329-1029-4d90-8996-07c12d93db78",
   "metadata": {},
   "outputs": [],
   "source": [
    "# Simple Port Scanner\n",
    "\n",
    "A port scanner is a tool used to probe a server or host for open ports. Port scanning is often the first step in identifying potential vulnerabilities in a network. In this notebook, we'll build a basic port scanner using Python.\n",
    "\n",
    "**Objectives:**\n",
    "- Understand the purpose of port scanning.\n",
    "- Implement a basic port scanner using Python's `socket` library.\n",
    "- Scan a host for open ports.\n"
   ]
  },
  {
   "cell_type": "code",
   "execution_count": 7,
   "id": "6614dd82-7002-4563-aac5-2a36a223464f",
   "metadata": {},
   "outputs": [
    {
     "name": "stdout",
     "output_type": "stream",
     "text": [
      "Port 21 is closed on 192.168.1.1\n",
      "Port 22 is closed on 192.168.1.1\n",
      "Port 80 is open on 192.168.1.1\n",
      "Port 443 is open on 192.168.1.1\n",
      "Port 8080 is closed on 192.168.1.1\n"
     ]
    }
   ],
   "source": [
    "import socket\n",
    "\n",
    "def scan_port(ip, port):\n",
    "    try:\n",
    "        sock = socket.socket(socket.AF_INET, socket.SOCK_STREAM)\n",
    "        sock.settimeout(1)\n",
    "        result = sock.connect_ex((ip, port))\n",
    "        sock.close()\n",
    "        return result == 0\n",
    "    except Exception as e:\n",
    "        return False\n",
    "\n",
    "# Define target IP and ports\n",
    "target_ip = \"192.168.1.1\"\n",
    "ports = [21, 22, 80, 443, 8080]\n",
    "\n",
    "# Scan ports\n",
    "for port in ports:\n",
    "    if scan_port(target_ip, port):\n",
    "        print(f\"Port {port} is open on {target_ip}\")\n",
    "    else:\n",
    "        print(f\"Port {port} is closed on {target_ip}\")\n"
   ]
  },
  {
   "cell_type": "markdown",
   "id": "7d99744a-1f33-4250-81fd-10bea6f5957d",
   "metadata": {},
   "source": [
    "The script above attempts to connect to each port on the target IP. If the connection is successful, the port is considered open; otherwise, it is closed. This is a basic example of a TCP connect scan, one of the simplest forms of port scanning.\n"
   ]
  },
  {
   "cell_type": "markdown",
   "id": "42ab162e-7c07-458a-9ff1-058de4d53a77",
   "metadata": {},
   "source": [
    "### Exercise: Enhance the Port Scanner\n",
    "\n",
    "- Modify the script to scan a range of IP addresses.\n",
    "- Implement a multi-threaded version of the port scanner to speed up the scanning process.\n",
    "- Can you add additional features, such as detecting the service running on each open port?\n"
   ]
  }
 ],
 "metadata": {
  "kernelspec": {
   "display_name": "Python 3 (ipykernel)",
   "language": "python",
   "name": "python3"
  },
  "language_info": {
   "codemirror_mode": {
    "name": "ipython",
    "version": 3
   },
   "file_extension": ".py",
   "mimetype": "text/x-python",
   "name": "python",
   "nbconvert_exporter": "python",
   "pygments_lexer": "ipython3",
   "version": "3.11.4"
  }
 },
 "nbformat": 4,
 "nbformat_minor": 5
}
