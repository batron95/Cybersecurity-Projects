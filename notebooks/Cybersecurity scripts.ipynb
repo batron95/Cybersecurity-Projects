{
 "cells": [
  {
   "cell_type": "markdown",
   "id": "9ca3f1b2-43c8-433a-818b-7a9d3c5c76ec",
   "metadata": {},
   "source": [
    "# SQL Injection Attack Simulation\n",
    "\n",
    "SQL injection is a common attack vector where malicious SQL statements are inserted into an input field to manipulate a database. In this notebook, we'll simulate a basic SQL injection attack and then show how to prevent it.\n",
    "\n",
    "**Objectives:**\n",
    "- Understand how SQL injection works.\n",
    "- Simulate an SQL injection attack.\n",
    "- Learn how to defend against SQL injection.\n"
   ]
  },
  {
   "cell_type": "code",
   "execution_count": 1,
   "id": "27ec9cfa-3918-44fe-9038-7f340073197f",
   "metadata": {},
   "outputs": [
    {
     "name": "stdout",
     "output_type": "stream",
     "text": [
      "SQL Query: SELECT * FROM users WHERE username = 'admin' AND password = '' OR '1'='1'\n",
      "Login failed.\n"
     ]
    }
   ],
   "source": [
    "# Simulating a basic SQL query without protection against SQL injection\n",
    "def authenticate_user(username, password):\n",
    "    query = f\"SELECT * FROM users WHERE username = '{username}' AND password = '{password}'\"\n",
    "    print(f\"SQL Query: {query}\")\n",
    "    # Simulating database return value\n",
    "    if username == 'admin' and password == 'admin':\n",
    "        return \"Login successful!\"\n",
    "    return \"Login failed.\"\n",
    "\n",
    "# Simulate an attack\n",
    "result = authenticate_user(\"admin\", \"' OR '1'='1\")\n",
    "print(result)\n"
   ]
  },
  {
   "cell_type": "markdown",
   "id": "0eaad17e-e193-457f-8ed4-4c6e4f25bc24",
   "metadata": {},
   "source": [
    "In the example above, the attacker enters a crafted password that manipulates the SQL query, effectively bypassing authentication. The query becomes:\n",
    "\n",
    "```sql\n",
    "SELECT * FROM users WHERE username = 'admin' AND password = '' OR '1'='1'\n"
   ]
  },
  {
   "cell_type": "markdown",
   "id": "9049a7da-65c8-41b2-b204-d6f9c0164296",
   "metadata": {},
   "source": [
    "**Preventing SQL Injection:**\n",
    "```python"
   ]
  },
  {
   "cell_type": "code",
   "execution_count": 3,
   "id": "1adf3226-b643-48ae-b271-e19185101c08",
   "metadata": {},
   "outputs": [
    {
     "name": "stdout",
     "output_type": "stream",
     "text": [
      "Login failed.\n"
     ]
    }
   ],
   "source": [
    "\n",
    "\n",
    "# Defending against SQL injection using parameterized queries\n",
    "import sqlite3\n",
    "\n",
    "def safe_authenticate_user(username, password):\n",
    "    connection = sqlite3.connect(':memory:')\n",
    "    cursor = connection.cursor()\n",
    "    \n",
    "    # Create a users table for demonstration\n",
    "    cursor.execute(\"CREATE TABLE users (username TEXT, password TEXT)\")\n",
    "    cursor.execute(\"INSERT INTO users (username, password) VALUES ('admin', 'admin')\")\n",
    "    \n",
    "    # Use a parameterized query\n",
    "    cursor.execute(\"SELECT * FROM users WHERE username = ? AND password = ?\", (username, password))\n",
    "    \n",
    "    user = cursor.fetchone()\n",
    "    if user:\n",
    "        return \"Login successful!\"\n",
    "    return \"Login failed.\"\n",
    "\n",
    "# Simulate the attack again\n",
    "result = safe_authenticate_user(\"admin\", \"' OR '1'='1\")\n",
    "print(result)\n"
   ]
  },
  {
   "cell_type": "markdown",
   "id": "abd609bc-8bf2-48f8-b77b-edb8e91916a9",
   "metadata": {},
   "source": [
    "### Exercise: Test SQL Injection Defenses\n",
    "\n",
    "- Try modifying the attack input to see if you can bypass the authentication with the safe function.\n",
    "- Experiment with different types of SQL injections. Can you find other potential vulnerabilities in a non-secured query?\n"
   ]
  },
  {
   "cell_type": "markdown",
   "id": "d364754a-fa6e-47b4-b02c-af096e6fdd9c",
   "metadata": {},
   "source": [
    "# Simple Port Scanner\n",
    "\n",
    "A port scanner is a tool used to probe a server or host for open ports. Port scanning is often the first step in identifying potential vulnerabilities in a network. In this notebook, we'll build a basic port scanner using Python.\n",
    "\n",
    "**Objectives:**\n",
    "- Understand the purpose of port scanning.\n",
    "- Implement a basic port scanner using Python's `socket` library.\n",
    "- Scan a host for open ports.\n"
   ]
  },
  {
   "cell_type": "code",
   "execution_count": 4,
   "id": "12aab744-4bc7-4e25-8f91-583f3bbe7c07",
   "metadata": {},
   "outputs": [
    {
     "name": "stdout",
     "output_type": "stream",
     "text": [
      "Port 21 is closed on 192.168.1.1\n",
      "Port 22 is closed on 192.168.1.1\n",
      "Port 80 is open on 192.168.1.1\n",
      "Port 443 is open on 192.168.1.1\n",
      "Port 8080 is closed on 192.168.1.1\n"
     ]
    }
   ],
   "source": [
    "import socket\n",
    "\n",
    "def scan_port(ip, port):\n",
    "    try:\n",
    "        sock = socket.socket(socket.AF_INET, socket.SOCK_STREAM)\n",
    "        sock.settimeout(1)\n",
    "        result = sock.connect_ex((ip, port))\n",
    "        sock.close()\n",
    "        return result == 0\n",
    "    except Exception as e:\n",
    "        return False\n",
    "\n",
    "# Define target IP and ports\n",
    "target_ip = \"192.168.1.1\"\n",
    "ports = [21, 22, 80, 443, 8080]\n",
    "\n",
    "# Scan ports\n",
    "for port in ports:\n",
    "    if scan_port(target_ip, port):\n",
    "        print(f\"Port {port} is open on {target_ip}\")\n",
    "    else:\n",
    "        print(f\"Port {port} is closed on {target_ip}\")\n"
   ]
  },
  {
   "cell_type": "markdown",
   "id": "9f454943-dbc4-4aca-a4b4-e99d155de1cf",
   "metadata": {},
   "source": [
    "The script above attempts to connect to each port on the target IP. If the connection is successful, the port is considered open; otherwise, it is closed. This is a basic example of a TCP connect scan, one of the simplest forms of port scanning.\n"
   ]
  },
  {
   "cell_type": "markdown",
   "id": "dc794fd0-6483-4c8c-ad23-61897983da25",
   "metadata": {},
   "source": [
    "### Exercise: Enhance the Port Scanner\n",
    "\n",
    "- Modify the script to scan a range of IP addresses.\n",
    "- Implement a multi-threaded version of the port scanner to speed up the scanning process.\n",
    "- Can you add additional features, such as detecting the service running on each open port?\n"
   ]
  },
  {
   "cell_type": "markdown",
   "id": "ad29bbfa-6041-4237-b4b0-c6b069a75f3c",
   "metadata": {},
   "source": []
  },
  {
   "cell_type": "code",
   "execution_count": null,
   "id": "bd306de2-d39d-4707-9423-55c72ec35045",
   "metadata": {},
   "outputs": [],
   "source": []
  }
 ],
 "metadata": {
  "kernelspec": {
   "display_name": "Python 3 (ipykernel)",
   "language": "python",
   "name": "python3"
  },
  "language_info": {
   "codemirror_mode": {
    "name": "ipython",
    "version": 3
   },
   "file_extension": ".py",
   "mimetype": "text/x-python",
   "name": "python",
   "nbconvert_exporter": "python",
   "pygments_lexer": "ipython3",
   "version": "3.11.4"
  }
 },
 "nbformat": 4,
 "nbformat_minor": 5
}
