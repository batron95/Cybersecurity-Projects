{
 "cells": [
  {
   "cell_type": "markdown",
   "id": "3a3cea3a-35b8-4cb1-ab22-639dc0c2b2fa",
   "metadata": {},
   "source": [
    "# Introduction to Cybersecurity\n",
    "\n",
    "This notebook is designed to introduce key cybersecurity concepts and provide hands-on exercises to reinforce learning. Topics covered include:\n",
    "\n",
    "- Basic concepts of cybersecurity\n",
    "- Introduction to cryptography\n",
    "- Network security fundamentals\n"
   ]
  },
  {
   "cell_type": "code",
   "execution_count": 1,
   "id": "28665b7d-6db7-408d-ae23-900d3851e5d4",
   "metadata": {},
   "outputs": [
    {
     "name": "stdout",
     "output_type": "stream",
     "text": [
      "Original Password: SecurePassword123\n",
      "Hashed Password: 245b22dce938051efc28cf4364928fa26e171db139755311a93703ba65fd6d07\n"
     ]
    }
   ],
   "source": [
    "import hashlib\n",
    "\n",
    "def hash_password(password):\n",
    "    return hashlib.sha256(password.encode()).hexdigest()\n",
    "\n",
    "password = \"SecurePassword123\"\n",
    "hashed_password = hash_password(password)\n",
    "\n",
    "print(f\"Original Password: {password}\")\n",
    "print(f\"Hashed Password: {hashed_password}\")\n"
   ]
  },
  {
   "cell_type": "code",
   "execution_count": null,
   "id": "9c987fc1-7509-472e-b7b7-130ccf19c058",
   "metadata": {},
   "outputs": [],
   "source": [
    "Example code for HASHING Passwords."
   ]
  },
  {
   "cell_type": "code",
   "execution_count": 3,
   "id": "a1ad2b70-b4c1-4cef-a2f5-d39946d4ee86",
   "metadata": {},
   "outputs": [
    {
     "name": "stdout",
     "output_type": "stream",
     "text": [
      "Original Message: This is a secret message\n",
      "Encrypted Message: b'gAAAAABmxqneTAZb1aFcnrUuKLX9UmJ23gBbx89wMXCvkaVgI4RPNusyztUvHy9xKn616efRGnb2EQK3GJDY99J7dIOjnmr0rtTyAbJFpS4mOA3KPhkiQNc='\n",
      "Decrypted Message: This is a secret message\n"
     ]
    }
   ],
   "source": [
    "from cryptography.fernet import Fernet\n",
    "\n",
    "# Generate a key\n",
    "key = Fernet.generate_key()\n",
    "cipher = Fernet(key)\n",
    "\n",
    "# Encrypt a message\n",
    "message = \"This is a secret message\"\n",
    "encrypted_message = cipher.encrypt(message.encode())\n",
    "\n",
    "# Decrypt the message\n",
    "decrypted_message = cipher.decrypt(encrypted_message).decode()\n",
    "\n",
    "print(f\"Original Message: {message}\")\n",
    "print(f\"Encrypted Message: {encrypted_message}\")\n",
    "print(f\"Decrypted Message: {decrypted_message}\")\n"
   ]
  },
  {
   "cell_type": "code",
   "execution_count": null,
   "id": "40484d33-761a-4fd3-860b-fd68efea8438",
   "metadata": {},
   "outputs": [],
   "source": [
    "Example above is a simple symmetric encryption."
   ]
  },
  {
   "cell_type": "code",
   "execution_count": 2,
   "id": "acf5d65c-0862-47f7-991e-f34b4b08ee54",
   "metadata": {},
   "outputs": [
    {
     "data": {
      "text/html": [
       "<div>\n",
       "<style scoped>\n",
       "    .dataframe tbody tr th:only-of-type {\n",
       "        vertical-align: middle;\n",
       "    }\n",
       "\n",
       "    .dataframe tbody tr th {\n",
       "        vertical-align: top;\n",
       "    }\n",
       "\n",
       "    .dataframe thead th {\n",
       "        text-align: right;\n",
       "    }\n",
       "</style>\n",
       "<table border=\"1\" class=\"dataframe\">\n",
       "  <thead>\n",
       "    <tr style=\"text-align: right;\">\n",
       "      <th></th>\n",
       "      <th>Timestamp</th>\n",
       "      <th>Source_IP</th>\n",
       "      <th>Destination_IP</th>\n",
       "      <th>Protocol</th>\n",
       "      <th>Action</th>\n",
       "    </tr>\n",
       "  </thead>\n",
       "  <tbody>\n",
       "    <tr>\n",
       "      <th>0</th>\n",
       "      <td>2024-08-20 10:01</td>\n",
       "      <td>192.168.1.10</td>\n",
       "      <td>192.168.1.20</td>\n",
       "      <td>TCP</td>\n",
       "      <td>ALLOW</td>\n",
       "    </tr>\n",
       "    <tr>\n",
       "      <th>1</th>\n",
       "      <td>2024-08-20 10:02</td>\n",
       "      <td>192.168.1.15</td>\n",
       "      <td>192.168.1.20</td>\n",
       "      <td>TCP</td>\n",
       "      <td>ALLOW</td>\n",
       "    </tr>\n",
       "    <tr>\n",
       "      <th>2</th>\n",
       "      <td>2024-08-20 10:03</td>\n",
       "      <td>192.168.1.10</td>\n",
       "      <td>192.168.1.20</td>\n",
       "      <td>UDP</td>\n",
       "      <td>DENY</td>\n",
       "    </tr>\n",
       "  </tbody>\n",
       "</table>\n",
       "</div>"
      ],
      "text/plain": [
       "          Timestamp     Source_IP Destination_IP Protocol Action\n",
       "0  2024-08-20 10:01  192.168.1.10   192.168.1.20      TCP  ALLOW\n",
       "1  2024-08-20 10:02  192.168.1.15   192.168.1.20      TCP  ALLOW\n",
       "2  2024-08-20 10:03  192.168.1.10   192.168.1.20      UDP   DENY"
      ]
     },
     "metadata": {},
     "output_type": "display_data"
    }
   ],
   "source": [
    "import pandas as pd\n",
    "\n",
    "# Example log data\n",
    "data = {\n",
    "    'Timestamp': ['2024-08-20 10:01', '2024-08-20 10:02', '2024-08-20 10:03'],\n",
    "    'Source_IP': ['192.168.1.10', '192.168.1.15', '192.168.1.10'],\n",
    "    'Destination_IP': ['192.168.1.20', '192.168.1.20', '192.168.1.20'],\n",
    "    'Protocol': ['TCP', 'TCP', 'UDP'],\n",
    "    'Action': ['ALLOW', 'ALLOW', 'DENY']\n",
    "}\n",
    "\n",
    "# Create DataFrame\n",
    "log_df = pd.DataFrame(data)\n",
    "\n",
    "# Display log data\n",
    "display(log_df)\n"
   ]
  },
  {
   "cell_type": "code",
   "execution_count": null,
   "id": "1d6f2616-d786-49fe-afce-5de7eb846432",
   "metadata": {},
   "outputs": [],
   "source": [
    "Example above is a code for analyzing a simple network log."
   ]
  },
  {
   "cell_type": "markdown",
   "id": "4118e3eb-8662-48d3-b367-2fd4af6ac2ad",
   "metadata": {},
   "source": [
    "### Exercise: Try encrypting and decrypting your own message.\n",
    "- Modify the code above to encrypt a different message.\n",
    "- What happens if you try to decrypt the message with a different key?\n"
   ]
  }
 ],
 "metadata": {
  "kernelspec": {
   "display_name": "Python 3 (ipykernel)",
   "language": "python",
   "name": "python3"
  },
  "language_info": {
   "codemirror_mode": {
    "name": "ipython",
    "version": 3
   },
   "file_extension": ".py",
   "mimetype": "text/x-python",
   "name": "python",
   "nbconvert_exporter": "python",
   "pygments_lexer": "ipython3",
   "version": "3.11.4"
  }
 },
 "nbformat": 4,
 "nbformat_minor": 5
}
