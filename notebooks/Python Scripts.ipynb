{
 "cells": [
  {
   "cell_type": "markdown",
   "id": "379b34ec-6e84-49cd-8a55-3ebcb374e90f",
   "metadata": {},
   "source": [
    "Python Network Scripts"
   ]
  },
  {
   "cell_type": "code",
   "execution_count": 1,
   "id": "c5a3ba1f-829d-449b-a8f4-bb13233b2fcd",
   "metadata": {},
   "outputs": [
    {
     "name": "stdout",
     "output_type": "stream",
     "text": [
      "\n",
      "Cybersecurity Tools\n",
      "1. Hash a File\n",
      "2. Scan for Open Ports\n",
      "3. Check Website Status\n",
      "4. Exit\n"
     ]
    },
    {
     "name": "stdin",
     "output_type": "stream",
     "text": [
      "Choose an option (1-4):  4\n"
     ]
    },
    {
     "name": "stdout",
     "output_type": "stream",
     "text": [
      "Exiting the program.\n"
     ]
    }
   ],
   "source": [
    "import hashlib\n",
    "import socket\n",
    "import requests\n",
    "import os\n",
    "\n",
    "def hash_file(filename, algorithm='sha256'):\n",
    "    \"\"\"Generate a hash for the given file using the specified algorithm.\"\"\"\n",
    "    h = hashlib.new(algorithm)\n",
    "    with open(filename, 'rb') as file:\n",
    "        chunk = file.read(8192)\n",
    "        while chunk:\n",
    "            h.update(chunk)\n",
    "            chunk = file.read(8192)\n",
    "    return h.hexdigest()\n",
    "\n",
    "def scan_open_ports(host, start_port=1, end_port=1024):\n",
    "    \"\"\"Scan for open ports on a given host within the specified range.\"\"\"\n",
    "    open_ports = []\n",
    "    for port in range(start_port, end_port + 1):\n",
    "        with socket.socket(socket.AF_INET, socket.SOCK_STREAM) as s:\n",
    "            s.settimeout(1)\n",
    "            result = s.connect_ex((host, port))\n",
    "            if result == 0:\n",
    "                open_ports.append(port)\n",
    "    return open_ports\n",
    "\n",
    "def check_website_status(url):\n",
    "    \"\"\"Check the status of a website by sending an HTTP GET request.\"\"\"\n",
    "    try:\n",
    "        response = requests.get(url, timeout=5)\n",
    "        return response.status_code, response.reason\n",
    "    except requests.RequestException as e:\n",
    "        return None, str(e)\n",
    "\n",
    "def main():\n",
    "    while True:\n",
    "        print(\"\\nCybersecurity Tools\")\n",
    "        print(\"1. Hash a File\")\n",
    "        print(\"2. Scan for Open Ports\")\n",
    "        print(\"3. Check Website Status\")\n",
    "        print(\"4. Exit\")\n",
    "        choice = input(\"Choose an option (1-4): \")\n",
    "\n",
    "        if choice == '1':\n",
    "            filename = input(\"Enter the file name to hash: \")\n",
    "            if os.path.isfile(filename):\n",
    "                algorithm = input(\"Enter the hashing algorithm (default is SHA256): \") or 'sha256'\n",
    "                print(f\"{algorithm.upper()} hash of {filename}: {hash_file(filename, algorithm)}\")\n",
    "            else:\n",
    "                print(f\"File not found: {filename}. Please provide a valid file name.\")\n",
    "        \n",
    "        elif choice == '2':\n",
    "            host = input(\"Enter the host to scan (e.g., 127.0.0.1): \")\n",
    "            start_port = int(input(\"Enter the start port (default is 1): \") or 1)\n",
    "            end_port = int(input(\"Enter the end port (default is 1024): \") or 1024)\n",
    "            open_ports = scan_open_ports(host, start_port, end_port)\n",
    "            if open_ports:\n",
    "                print(f\"Open ports on {host}: {open_ports}\")\n",
    "            else:\n",
    "                print(f\"No open ports found on {host} in the range {start_port}-{end_port}\")\n",
    "        \n",
    "        elif choice == '3':\n",
    "            url = input(\"Enter the website URL (e.g., http://example.com): \")\n",
    "            status_code, reason = check_website_status(url)\n",
    "            if status_code:\n",
    "                print(f\"Website {url} responded with status: {status_code} {reason}\")\n",
    "            else:\n",
    "                print(f\"Failed to check website {url}: {reason}\")\n",
    "        \n",
    "        elif choice == '4':\n",
    "            print(\"Exiting the program.\")\n",
    "            break\n",
    "        \n",
    "        else:\n",
    "            print(\"Invalid option. Please choose a valid option.\")\n",
    "\n",
    "if __name__ == \"__main__\":\n",
    "    main()"
   ]
  },
  {
   "cell_type": "code",
   "execution_count": null,
   "id": "d3f26d1d-d29f-4305-b20d-abce77aa1460",
   "metadata": {},
   "outputs": [],
   "source": [
    "This is a simple Python script that provides basic cybersecurity utilities. The tools included are:\n",
    "\n",
    "1. File Hashing: Generate cryptographic hashes for files using algorithms like SHA256.\n",
    "2. Port Scanning: Scan a specified range of ports on a given host to identify open ports.\n",
    "3. Website Status Check: Check the status of a website by sending an HTTP GET request."
   ]
  }
 ],
 "metadata": {
  "kernelspec": {
   "display_name": "Python 3 (ipykernel)",
   "language": "python",
   "name": "python3"
  },
  "language_info": {
   "codemirror_mode": {
    "name": "ipython",
    "version": 3
   },
   "file_extension": ".py",
   "mimetype": "text/x-python",
   "name": "python",
   "nbconvert_exporter": "python",
   "pygments_lexer": "ipython3",
   "version": "3.11.4"
  }
 },
 "nbformat": 4,
 "nbformat_minor": 5
}
